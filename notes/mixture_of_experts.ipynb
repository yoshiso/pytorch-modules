{
 "cells": [
  {
   "cell_type": "markdown",
   "metadata": {},
   "source": [
    "How to use the mixture_of_experts module. \n",
    "\n",
    "Thanks for simple example [github.com/yunjey/pytorch-tutorials](https://github.com/yunjey/pytorch-tutorial/blob/master/tutorials/01-basics/feedforward_neural_network/main.py)"
   ]
  },
  {
   "cell_type": "code",
   "execution_count": 1,
   "metadata": {},
   "outputs": [],
   "source": [
    "from mixture_of_experts import mixture_of_experts"
   ]
  },
  {
   "cell_type": "code",
   "execution_count": 2,
   "metadata": {},
   "outputs": [],
   "source": [
    "# Set up network composer.\n",
    "\n",
    "class experts(mixture_of_experts):\n",
    "    \n",
    "    def compose(self, layers):\n",
    "        return nn.Sequential(*layers)"
   ]
  },
  {
   "cell_type": "code",
   "execution_count": 3,
   "metadata": {},
   "outputs": [
    {
     "name": "stdout",
     "output_type": "stream",
     "text": [
      "Epoch [1/3], Step [100/600], Loss: 0.2039\n",
      "Epoch [1/3], Step [200/600], Loss: 0.4369\n",
      "Epoch [1/3], Step [300/600], Loss: 0.3419\n",
      "Epoch [1/3], Step [400/600], Loss: 0.1574\n",
      "Epoch [1/3], Step [500/600], Loss: 0.0756\n",
      "Epoch [1/3], Step [600/600], Loss: 0.1699\n",
      "Epoch [2/3], Step [100/600], Loss: 0.2235\n",
      "Epoch [2/3], Step [200/600], Loss: 0.1652\n",
      "Epoch [2/3], Step [300/600], Loss: 0.0689\n",
      "Epoch [2/3], Step [400/600], Loss: 0.2040\n",
      "Epoch [2/3], Step [500/600], Loss: 0.0671\n",
      "Epoch [2/3], Step [600/600], Loss: 0.1052\n",
      "Epoch [3/3], Step [100/600], Loss: 0.0532\n",
      "Epoch [3/3], Step [200/600], Loss: 0.0391\n",
      "Epoch [3/3], Step [300/600], Loss: 0.0546\n",
      "Epoch [3/3], Step [400/600], Loss: 0.1116\n",
      "Epoch [3/3], Step [500/600], Loss: 0.0837\n",
      "Epoch [3/3], Step [600/600], Loss: 0.0644\n"
     ]
    }
   ],
   "source": [
    "import torch\n",
    "import torch.nn as nn\n",
    "import torchvision\n",
    "import torchvision.transforms as transforms\n",
    "\n",
    "# Device configuration\n",
    "device = torch.device('cuda' if torch.cuda.is_available() else 'cpu')\n",
    "\n",
    "# Hyper-parameters \n",
    "input_size = 784\n",
    "hidden_size = 500\n",
    "num_classes = 10\n",
    "num_epochs = 3\n",
    "batch_size = 100\n",
    "learning_rate = 0.001\n",
    "\n",
    "# MNIST dataset \n",
    "train_dataset = torchvision.datasets.MNIST(root='./data', \n",
    "                                           train=True, \n",
    "                                           transform=transforms.ToTensor(),  \n",
    "                                           download=True)\n",
    "\n",
    "test_dataset = torchvision.datasets.MNIST(root='./data', \n",
    "                                          train=False, \n",
    "                                          transform=transforms.ToTensor())\n",
    "\n",
    "# Data loader\n",
    "train_loader = torch.utils.data.DataLoader(dataset=train_dataset, \n",
    "                                           batch_size=batch_size, \n",
    "                                           shuffle=True)\n",
    "\n",
    "test_loader = torch.utils.data.DataLoader(dataset=test_dataset, \n",
    "                                          batch_size=batch_size, \n",
    "                                          shuffle=False)\n",
    "\n",
    "# Mixture of Networks\n",
    "model = experts(\n",
    "    input_dim=input_size,\n",
    "    output_dim=num_classes,\n",
    "    k=2,\n",
    "    experts=[\n",
    "        {\n",
    "            'n': 2,\n",
    "            'layers': [\n",
    "                nn.Linear(input_size, hidden_size),\n",
    "                nn.Sigmoid(),\n",
    "                nn.Linear(hidden_size, num_classes),\n",
    "            ],\n",
    "        },\n",
    "        {\n",
    "            'n': 2,\n",
    "            'layers': [\n",
    "                nn.Linear(input_size, hidden_size),\n",
    "                nn.ReLU(),\n",
    "                nn.Linear(hidden_size, num_classes),\n",
    "            ],\n",
    "        },\n",
    "        {\n",
    "            'n': 2,\n",
    "            'layers': [\n",
    "                nn.Linear(input_size, hidden_size),\n",
    "                nn.Tanh(),\n",
    "                nn.Linear(hidden_size, num_classes),\n",
    "            ],\n",
    "        },\n",
    "    ]\n",
    ").to(device)\n",
    "\n",
    "# Loss and optimizer\n",
    "criterion = nn.CrossEntropyLoss()\n",
    "optimizer = torch.optim.Adam(model.parameters(), lr=learning_rate)  \n",
    "\n",
    "# Train the model\n",
    "total_step = len(train_loader)\n",
    "for epoch in range(num_epochs):\n",
    "    for i, (images, labels) in enumerate(train_loader):  \n",
    "        # Move tensors to the configured device\n",
    "        images = images.reshape(-1, 28*28).to(device)\n",
    "        labels = labels.to(device)\n",
    "        \n",
    "        # Forward pass\n",
    "        outputs, mloss = model(images)\n",
    "        loss = criterion(outputs, labels)\n",
    "        \n",
    "        # Backward and optimize\n",
    "        optimizer.zero_grad()\n",
    "        (loss + mloss).backward()\n",
    "        optimizer.step()\n",
    "        \n",
    "        if (i+1) % 100 == 0:\n",
    "            print ('Epoch [{}/{}], Step [{}/{}], Loss: {:.4f}' \n",
    "                   .format(epoch+1, num_epochs, i+1, total_step, loss.item()))\n"
   ]
  },
  {
   "cell_type": "code",
   "execution_count": 4,
   "metadata": {},
   "outputs": [
    {
     "name": "stdout",
     "output_type": "stream",
     "text": [
      "Accuracy of the network on the 10000 test images: 97.38 %\n"
     ]
    }
   ],
   "source": [
    "# Test the model\n",
    "# In test phase, we don't need to compute gradients (for memory efficiency)\n",
    "model.eval()\n",
    "with torch.no_grad():\n",
    "    correct = 0\n",
    "    total = 0\n",
    "    for images, labels in test_loader:\n",
    "        images = images.reshape(-1, 28*28).to(device)\n",
    "        labels = labels.to(device)\n",
    "        outputs, _ = model(images)\n",
    "        _, predicted = torch.max(outputs.data, 1)\n",
    "        total += labels.size(0)\n",
    "        correct += (predicted == labels).sum().item()\n",
    "\n",
    "    print('Accuracy of the network on the 10000 test images: {} %'.format(100 * correct / total))"
   ]
  }
 ],
 "metadata": {
  "kernelspec": {
   "display_name": "Python 3",
   "language": "python",
   "name": "python3"
  },
  "language_info": {
   "codemirror_mode": {
    "name": "ipython",
    "version": 3
   },
   "file_extension": ".py",
   "mimetype": "text/x-python",
   "name": "python",
   "nbconvert_exporter": "python",
   "pygments_lexer": "ipython3",
   "version": "3.5.2"
  }
 },
 "nbformat": 4,
 "nbformat_minor": 2
}
